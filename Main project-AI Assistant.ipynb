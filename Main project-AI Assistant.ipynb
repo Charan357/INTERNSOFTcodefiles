{
 "cells": [
  {
   "cell_type": "code",
   "execution_count": 1,
   "id": "a03e579b",
   "metadata": {},
   "outputs": [],
   "source": [
    "import os\n",
    "import time\n",
    "import subprocess\n",
    "import json"
   ]
  },
  {
   "cell_type": "code",
   "execution_count": 2,
   "id": "13ae97be",
   "metadata": {},
   "outputs": [],
   "source": [
    "import wolframalpha\n",
    "import requests\n",
    "import webbrowser\n",
    "import wikipedia\n",
    "import datetime"
   ]
  },
  {
   "cell_type": "code",
   "execution_count": 3,
   "id": "6ec6f526",
   "metadata": {},
   "outputs": [],
   "source": [
    "import speech_recognition as sr\n",
    "import pyttsx3"
   ]
  },
  {
   "cell_type": "code",
   "execution_count": 4,
   "id": "6dd1f582",
   "metadata": {},
   "outputs": [
    {
     "name": "stdout",
     "output_type": "stream",
     "text": [
      "LOADING YOUR AI PERSONAL ASSISTANT JARVIS.....\n"
     ]
    }
   ],
   "source": [
    "print(\"LOADING YOUR AI PERSONAL ASSISTANT JARVIS.....\")"
   ]
  },
  {
   "cell_type": "code",
   "execution_count": 5,
   "id": "49e8e49a",
   "metadata": {},
   "outputs": [],
   "source": [
    "engine = pyttsx3.init('sapi5')\n",
    "voices = engine.getProperty('voices')\n",
    "engine.setProperty('voice','voices[0].id')"
   ]
  },
  {
   "cell_type": "code",
   "execution_count": 6,
   "id": "3925f366",
   "metadata": {},
   "outputs": [],
   "source": [
    "def speak(text):\n",
    "    engine.say(text)\n",
    "    engine.runAndWait()"
   ]
  },
  {
   "cell_type": "code",
   "execution_count": 7,
   "id": "557be63f",
   "metadata": {},
   "outputs": [],
   "source": [
    "def wishMe():\n",
    "    hour = datetime.datetime.now().hour\n",
    "    if hour >= 0 and hour < 12:\n",
    "        speak('HELLO, GOOD MORNING MR. Charan')\n",
    "        print('HELLO, GOOD MORNING MR. Charan')\n",
    "        \n",
    "    elif hour >= 12 and hour <= 18:\n",
    "        speak('HELLO, GOOD AFTERNOON MR. Charan')\n",
    "        print('HELLO, GOOD AFTERNOON MR. Charan')\n",
    "    else:\n",
    "        speak(\"IT'S ALREADY NIGHT TIME, BETTER GO TO BED\")\n",
    "        print(\"IT'S ALREADY NIGHT TIME, BETTER GO TO BED\")"
   ]
  },
  {
   "cell_type": "code",
   "execution_count": 8,
   "id": "129673b5",
   "metadata": {},
   "outputs": [],
   "source": [
    "def takeCommand():\n",
    "    r = sr.Recognizer()\n",
    "    with sr.Microphone() as source:\n",
    "        print(\"I'AM LISTENING\")\n",
    "        audio = r.listen(source)\n",
    "        \n",
    "        try:\n",
    "            statement = r.recognize_google(audio,language='en-in')\n",
    "            print(f\"user.said:{statement}\\n\")\n",
    "            \n",
    "        except Exception as e:\n",
    "            speak('PARDON ME, PLEASE SAY THAT AGAIN')\n",
    "            print('PARDON ME, PLEASE SAY THAT AGAIN')\n",
    "            return \"None\"\n",
    "        return statement"
   ]
  },
  {
   "cell_type": "code",
   "execution_count": null,
   "id": "1b339275",
   "metadata": {},
   "outputs": [
    {
     "name": "stdout",
     "output_type": "stream",
     "text": [
      "HELLO, GOOD AFTERNOON MR. Charan\n",
      "I'AM LISTENING\n",
      "PARDON ME, PLEASE SAY THAT AGAIN\n",
      "I'AM LISTENING\n",
      "PARDON ME, PLEASE SAY THAT AGAIN\n",
      "I'AM LISTENING\n"
     ]
    }
   ],
   "source": [
    "speak('LOADING YOUR PERSONAL AI ASSISTANT JARVIS')\n",
    "wishMe()\n",
    "\n",
    "if __name__ == '__main__':\n",
    "    \n",
    "    while True:\n",
    "        speak('HOW CAN I HELP YOU ?')\n",
    "        statement = takeCommand().lower()\n",
    "        if statement == 0:\n",
    "            continue\n",
    "            \n",
    "        if \"good bye\" in statement or \"ok bye\" in statement or \"stop\" in statement:\n",
    "            speak(\"YOUR PERSONAL AI ASSISTANT JUPITER IS SHUTTING DOWN, GOOD BYE\")\n",
    "            print(\"YOUR PERSONAL AI ASSISTANT JUPITER IS SHUTTING DOWN, GOOD BYE\")\n",
    "            break\n",
    "            \n",
    "        if \"wikipedia\" in statement:\n",
    "            speak(\"searching wikipedia.....\")\n",
    "            statement = statement.replace(\"wikipedia\", \" \")\n",
    "            results = wikipedia.summary(statement, sentences = 3)\n",
    "            speak(\"According to wikipedia....\")\n",
    "            print(results)\n",
    "            speak(results)\n",
    "            \n",
    "        elif \"open youtube\" in statement:\n",
    "            webbrowser.open_new_tab(\"https://www.youtube.com\")\n",
    "            speak(\"YOUTUBE IS OPENED FOR YOU\")\n",
    "            time.sleep(5)\n",
    "            \n",
    "        elif \"open google\" in statement:\n",
    "            webbrowser.open_new_tab(\"https://www.google.com\")\n",
    "            speak(\"GOOGLE SEARCH IS OPENED FOR YOU\")\n",
    "            time.sleep(5)\n",
    "            \n",
    "        elif \"open gmail\" in statement:\n",
    "            webbrowser.open_new_tab(\"gmail.com\")\n",
    "            speak(\"YOUR GMAIL IS OPENED FOR YOU\")\n",
    "            time.sleep(5)\n",
    "            \n",
    "        elif \"weather\" in statement:\n",
    "            api_key=\"8ef61edcf1c576d65d836254e11ea420\"\n",
    "            base_url=\"https://api.openweathermap.org/data/2.5/weather?\"\n",
    "            speak(\"WHAT IS THE CITY NAME\")\n",
    "            city_name=takeCommand()\n",
    "            complete_url=base_url+\"appid=\"+api_key+\"&q=\"+city_name\n",
    "            response = requests.get(complete_url)\n",
    "            x=response.json()\n",
    "            if x[\"cod\"]!=\"404\":\n",
    "                y=x[\"main\"]\n",
    "                current_temperature = y[\"temp\"]\n",
    "                current_humidiy = y[\"humidity\"]\n",
    "                z = x[\"weather\"]\n",
    "                weather_description = z[0][\"description\"]\n",
    "                speak(\" Temperature in kelvin unit is \" + str(current_temperature) + \n",
    "                      \"\\n humidity in percentage is \" + str(current_humidiy) + \"\\n description  \" + str(weather_description))\n",
    "                print(\" Temperature in kelvin unit = \" + str(current_temperature) +\n",
    "                      \"\\n humidity (in percentage) = \" + str(current_humidiy) + \"\\n description = \" + str(weather_description))\n",
    "            else:\n",
    "                print(\"CITY NOT FOUND\")\n",
    "                speak(\"CITY NOT FOUND\")\n",
    "                \n",
    "        elif \"time\" in statement:\n",
    "            strTime = datetime.datetime.now().strftime(\"%H:%M:%S\")\n",
    "            speak(f\"THE TIME IS {strTime}\")\n",
    "            \n",
    "        elif \"who are you\" in statement or \"what can you do\" in statement:\n",
    "            speak('I am JARVIS version 1 point 0 your personal AI assistant. I am programmed to do minor tasks like,'\n",
    "                   'opening youtube, google chrome, gmail and stack overflow, predict time, take a photo, search wikipedia, predict weather'\n",
    "                   'in different cities, get top headline news from Times of India and you can ask me computational or geograhical too!')\n",
    "                  \n",
    "        elif \"who made you\" in statement or \"who created you\" in statement or \"who discovered you\" in statement:\n",
    "            speak(\"I WAS BUILT BY CHARAN\")\n",
    "            print(\"I WAS BUILT BY CHARAN\")\n",
    "                  \n",
    "        elif \"open stack overflow\" in statement:\n",
    "            webbrowser.open_new_tab(\"https://stackoverflow.com/login\")\n",
    "            time.sleep(5)\n",
    "                  \n",
    "        elif \"news\" in statement:\n",
    "            news = webbrowser.open_new_tab(\"https://timesofindia.indiatimes.com/home/headlines\")\n",
    "            speak(\"HERE ARE SOME HEADLINES FOR YOU FROM TIMES OF INDIA, HAPPY READING\")\n",
    "            time.sleep(7)\n",
    "                  \n",
    "        elif \"search\" in statement:\n",
    "            statement = statement.replace(\"search\", \" \")      \n",
    "            webbrowser.open_new_tab(\"statement\")\n",
    "            time.sleep(5)\n",
    "                  \n",
    "        elif \"ask\" in statement:\n",
    "            speak(\"I CAN ANSWER TO COMPUTATIONAL AND GEOGRAPHICAL TOO, JUST TRY ME! WHAT DO YOU WANT TO ASK\")\n",
    "            question = takeCommand()\n",
    "            app_id = \"R2K75H-7ELALHR35X\"\n",
    "            client = wolframalpha.Client('R2K75H-7ELALHR35X')\n",
    "            res = client.query(question)\n",
    "            answer = next(res.results).text\n",
    "            speak(answer)\n",
    "            print(answer)\n",
    "                  \n",
    "        elif \"log off\" in statement or \"shut down\" in statement or \"sign out\" in statement:\n",
    "            speak(\"OK,Your PC will shut down in 10 seconds- ensure that you have saved and exit from all applications\")\n",
    "            subprocess.call(['shut down',\"/l\"])\n",
    "            \n",
    "time.sleep(3)"
   ]
  },
  {
   "cell_type": "code",
   "execution_count": null,
   "id": "93cd5645",
   "metadata": {},
   "outputs": [],
   "source": []
  }
 ],
 "metadata": {
  "kernelspec": {
   "display_name": "Python 3 (ipykernel)",
   "language": "python",
   "name": "python3"
  },
  "language_info": {
   "codemirror_mode": {
    "name": "ipython",
    "version": 3
   },
   "file_extension": ".py",
   "mimetype": "text/x-python",
   "name": "python",
   "nbconvert_exporter": "python",
   "pygments_lexer": "ipython3",
   "version": "3.10.9"
  }
 },
 "nbformat": 4,
 "nbformat_minor": 5
}
